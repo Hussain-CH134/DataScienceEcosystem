{
 "cells": [
  {
   "cell_type": "markdown",
   "id": "77a9de78-f453-4685-9cd5-edf4258691df",
   "metadata": {},
   "source": [
    "# Data Science Tools and Ecosystem"
   ]
  },
  {
   "cell_type": "markdown",
   "id": "a53a2b97-ac9a-4895-bc15-77aa68091413",
   "metadata": {},
   "source": [
    "In this notebook, Data Science Tools and Ecosystem are summarized."
   ]
  },
  {
   "cell_type": "markdown",
   "id": "45d74634-561f-45ac-8e1a-85bc372af717",
   "metadata": {},
   "source": [
    "Objectives:\n",
    "* Popular Languages in Data Science.\n",
    "* Common libraries in Data Science.\n",
    "* Open Source Tool in Data Science.\n",
    "* Arithematics in Jupyter."
   ]
  },
  {
   "cell_type": "markdown",
   "id": "58b17370-1ad5-4064-9a9c-d41964d5c932",
   "metadata": {},
   "source": [
    "Some of the popular languages that Data Scientists use are:\n",
    "1. Python\n",
    "2. SQL\n",
    "3. R"
   ]
  },
  {
   "cell_type": "markdown",
   "id": "015c5ec8-8ae2-44e5-8228-cbf4978f510e",
   "metadata": {},
   "source": [
    "Some of the commonly used libraries used by Data Scientists include:\n",
    "1. Numpy\n",
    "2. Pandas\n",
    "3. Matplot\n",
    "4. Tensorflow\n",
    "   "
   ]
  },
  {
   "cell_type": "markdown",
   "id": "c018e522-3c73-4265-aed2-7d795d3b6592",
   "metadata": {},
   "source": [
    "| Data Science Tools |\n",
    "|--------------------|\n",
    "| Jupyter Notebook   |\n",
    "| RStudio            |\n",
    "| VS Code (with Python/R extensions) |"
   ]
  },
  {
   "cell_type": "markdown",
   "id": "0cb60fbc-1eb9-43b1-9811-6c1a4c56b529",
   "metadata": {},
   "source": [
    "### Below are a few examples of evaluating arithmetic expressions in Python"
   ]
  },
  {
   "cell_type": "code",
   "execution_count": 1,
   "id": "e2886fcb-3bfd-485d-8623-21d1f12fa930",
   "metadata": {},
   "outputs": [
    {
     "data": {
      "text/plain": [
       "17"
      ]
     },
     "execution_count": 1,
     "metadata": {},
     "output_type": "execute_result"
    }
   ],
   "source": [
    "# This a simple arithmetic expression to mutiply then add integers\n",
    "(3*4)+5"
   ]
  },
  {
   "cell_type": "code",
   "execution_count": 4,
   "id": "aeaaf97a-f3e0-4fc9-8452-ec123ef41e0c",
   "metadata": {},
   "outputs": [
    {
     "data": {
      "text/plain": [
       "3"
      ]
     },
     "execution_count": 4,
     "metadata": {},
     "output_type": "execute_result"
    }
   ],
   "source": [
    "# This will convert 200 minutes to hours by diving by 60\n",
    "int(200/60)"
   ]
  },
  {
   "cell_type": "markdown",
   "id": "df623ec9-9358-498b-af90-bb06dcf3ee82",
   "metadata": {},
   "source": [
    "## Author\n",
    "Hussain Nazir"
   ]
  },
  {
   "cell_type": "code",
   "execution_count": null,
   "id": "ae8a86bd-bb74-4387-a7e2-7fca09d32f40",
   "metadata": {},
   "outputs": [],
   "source": []
  }
 ],
 "metadata": {
  "kernelspec": {
   "display_name": "Python 3 (ipykernel)",
   "language": "python",
   "name": "python3"
  },
  "language_info": {
   "codemirror_mode": {
    "name": "ipython",
    "version": 3
   },
   "file_extension": ".py",
   "mimetype": "text/x-python",
   "name": "python",
   "nbconvert_exporter": "python",
   "pygments_lexer": "ipython3",
   "version": "3.12.8"
  }
 },
 "nbformat": 4,
 "nbformat_minor": 5
}
